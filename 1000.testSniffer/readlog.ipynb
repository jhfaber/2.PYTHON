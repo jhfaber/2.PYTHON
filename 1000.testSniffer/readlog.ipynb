{
 "cells": [
  {
   "cell_type": "code",
   "execution_count": 3,
   "metadata": {},
   "outputs": [
    {
     "data": {
      "text/html": [
       "<script type=\"text/javascript\">window.PlotlyConfig = {MathJaxConfig: 'local'};</script><script type=\"text/javascript\">if (window.MathJax) {MathJax.Hub.Config({SVG: {font: \"STIX-Web\"}});}</script><script>requirejs.config({paths: { 'plotly': ['https://cdn.plot.ly/plotly-latest.min']},});if(!window._Plotly) {require(['plotly'],function(plotly) {window._Plotly=plotly;});}</script>"
      ],
      "text/vnd.plotly.v1+html": [
       "<script type=\"text/javascript\">window.PlotlyConfig = {MathJaxConfig: 'local'};</script><script type=\"text/javascript\">if (window.MathJax) {MathJax.Hub.Config({SVG: {font: \"STIX-Web\"}});}</script><script>requirejs.config({paths: { 'plotly': ['https://cdn.plot.ly/plotly-latest.min']},});if(!window._Plotly) {require(['plotly'],function(plotly) {window._Plotly=plotly;});}</script>"
      ]
     },
     "metadata": {},
     "output_type": "display_data"
    }
   ],
   "source": [
    "import pandas as pd\n",
    "import numpy as np \n",
    "from plotly.offline import download_plotlyjs, init_notebook_mode, plot, iplot\n",
    "import plotly.graph_objs as go\n",
    "init_notebook_mode(connected=True)"
   ]
  },
  {
   "cell_type": "code",
   "execution_count": 4,
   "metadata": {},
   "outputs": [],
   "source": [
    "data = pd.read_csv('logbandwidth.txt', sep=',', engine='python',error_bad_lines=False, index_col=False,\n",
    "                   names=['IP', 'Timestamp','Total Sent','Icmp Sent','Udp Sent','Tcp Sent','Ftp Sent',\n",
    "                          'Http Sent','Mail Sent','P2P Sent','Total Received','Icmp Received','Udp Received',\n",
    "                          'Tcp Received','Ftp Received','Http Received','Mail Received','P2P Received'])"
   ]
  },
  {
   "cell_type": "code",
   "execution_count": 5,
   "metadata": {},
   "outputs": [
    {
     "data": {
      "text/html": [
       "<div>\n",
       "<style scoped>\n",
       "    .dataframe tbody tr th:only-of-type {\n",
       "        vertical-align: middle;\n",
       "    }\n",
       "\n",
       "    .dataframe tbody tr th {\n",
       "        vertical-align: top;\n",
       "    }\n",
       "\n",
       "    .dataframe thead th {\n",
       "        text-align: right;\n",
       "    }\n",
       "</style>\n",
       "<table border=\"1\" class=\"dataframe\">\n",
       "  <thead>\n",
       "    <tr style=\"text-align: right;\">\n",
       "      <th></th>\n",
       "      <th>IP</th>\n",
       "      <th>Timestamp</th>\n",
       "      <th>Total Sent</th>\n",
       "      <th>Icmp Sent</th>\n",
       "      <th>Udp Sent</th>\n",
       "      <th>Tcp Sent</th>\n",
       "      <th>Ftp Sent</th>\n",
       "      <th>Http Sent</th>\n",
       "      <th>Mail Sent</th>\n",
       "      <th>P2P Sent</th>\n",
       "      <th>Total Received</th>\n",
       "      <th>Icmp Received</th>\n",
       "      <th>Udp Received</th>\n",
       "      <th>Tcp Received</th>\n",
       "      <th>Ftp Received</th>\n",
       "      <th>Http Received</th>\n",
       "      <th>Mail Received</th>\n",
       "      <th>P2P Received</th>\n",
       "    </tr>\n",
       "  </thead>\n",
       "  <tbody>\n",
       "    <tr>\n",
       "      <th>0</th>\n",
       "      <td>192.168.0.175</td>\n",
       "      <td>1553749645</td>\n",
       "      <td>94156</td>\n",
       "      <td>0</td>\n",
       "      <td>2008</td>\n",
       "      <td>92148</td>\n",
       "      <td>0</td>\n",
       "      <td>87338</td>\n",
       "      <td>0</td>\n",
       "      <td>131358</td>\n",
       "      <td>0</td>\n",
       "      <td>672</td>\n",
       "      <td>130686</td>\n",
       "      <td>0</td>\n",
       "      <td>126184</td>\n",
       "      <td>0</td>\n",
       "      <td>NaN</td>\n",
       "      <td>NaN</td>\n",
       "    </tr>\n",
       "    <tr>\n",
       "      <th>1</th>\n",
       "      <td>0.0.0.0</td>\n",
       "      <td>1553749645</td>\n",
       "      <td>987326</td>\n",
       "      <td>0</td>\n",
       "      <td>113020</td>\n",
       "      <td>874214</td>\n",
       "      <td>0</td>\n",
       "      <td>863945</td>\n",
       "      <td>0</td>\n",
       "      <td>13371791</td>\n",
       "      <td>1160</td>\n",
       "      <td>95131</td>\n",
       "      <td>13275500</td>\n",
       "      <td>0</td>\n",
       "      <td>13266415</td>\n",
       "      <td>0</td>\n",
       "      <td>NaN</td>\n",
       "      <td>NaN</td>\n",
       "    </tr>\n",
       "    <tr>\n",
       "      <th>2</th>\n",
       "      <td>192.168.0.181</td>\n",
       "      <td>1553749645</td>\n",
       "      <td>86538</td>\n",
       "      <td>0</td>\n",
       "      <td>28812</td>\n",
       "      <td>57726</td>\n",
       "      <td>0</td>\n",
       "      <td>55596</td>\n",
       "      <td>0</td>\n",
       "      <td>118317</td>\n",
       "      <td>0</td>\n",
       "      <td>22779</td>\n",
       "      <td>95538</td>\n",
       "      <td>0</td>\n",
       "      <td>93315</td>\n",
       "      <td>0</td>\n",
       "      <td>NaN</td>\n",
       "      <td>NaN</td>\n",
       "    </tr>\n",
       "    <tr>\n",
       "      <th>3</th>\n",
       "      <td>192.168.0.176</td>\n",
       "      <td>1553749645</td>\n",
       "      <td>72694</td>\n",
       "      <td>0</td>\n",
       "      <td>4944</td>\n",
       "      <td>67750</td>\n",
       "      <td>0</td>\n",
       "      <td>67750</td>\n",
       "      <td>0</td>\n",
       "      <td>120077</td>\n",
       "      <td>0</td>\n",
       "      <td>3268</td>\n",
       "      <td>116809</td>\n",
       "      <td>0</td>\n",
       "      <td>116809</td>\n",
       "      <td>0</td>\n",
       "      <td>NaN</td>\n",
       "      <td>NaN</td>\n",
       "    </tr>\n",
       "    <tr>\n",
       "      <th>4</th>\n",
       "      <td>192.168.0.188</td>\n",
       "      <td>1553749645</td>\n",
       "      <td>33758</td>\n",
       "      <td>0</td>\n",
       "      <td>25019</td>\n",
       "      <td>8739</td>\n",
       "      <td>0</td>\n",
       "      <td>8295</td>\n",
       "      <td>0</td>\n",
       "      <td>42020</td>\n",
       "      <td>0</td>\n",
       "      <td>19160</td>\n",
       "      <td>22860</td>\n",
       "      <td>0</td>\n",
       "      <td>22492</td>\n",
       "      <td>0</td>\n",
       "      <td>NaN</td>\n",
       "      <td>NaN</td>\n",
       "    </tr>\n",
       "  </tbody>\n",
       "</table>\n",
       "</div>"
      ],
      "text/plain": [
       "              IP   Timestamp  Total Sent  Icmp Sent  Udp Sent  Tcp Sent  \\\n",
       "0  192.168.0.175  1553749645       94156          0      2008     92148   \n",
       "1        0.0.0.0  1553749645      987326          0    113020    874214   \n",
       "2  192.168.0.181  1553749645       86538          0     28812     57726   \n",
       "3  192.168.0.176  1553749645       72694          0      4944     67750   \n",
       "4  192.168.0.188  1553749645       33758          0     25019      8739   \n",
       "\n",
       "   Ftp Sent  Http Sent  Mail Sent  P2P Sent  Total Received  Icmp Received  \\\n",
       "0         0      87338          0    131358               0            672   \n",
       "1         0     863945          0  13371791            1160          95131   \n",
       "2         0      55596          0    118317               0          22779   \n",
       "3         0      67750          0    120077               0           3268   \n",
       "4         0       8295          0     42020               0          19160   \n",
       "\n",
       "   Udp Received  Tcp Received  Ftp Received  Http Received  Mail Received  \\\n",
       "0        130686             0        126184              0            NaN   \n",
       "1      13275500             0      13266415              0            NaN   \n",
       "2         95538             0         93315              0            NaN   \n",
       "3        116809             0        116809              0            NaN   \n",
       "4         22860             0         22492              0            NaN   \n",
       "\n",
       "   P2P Received  \n",
       "0           NaN  \n",
       "1           NaN  \n",
       "2           NaN  \n",
       "3           NaN  \n",
       "4           NaN  "
      ]
     },
     "execution_count": 5,
     "metadata": {},
     "output_type": "execute_result"
    }
   ],
   "source": [
    "data.head()"
   ]
  },
  {
   "cell_type": "code",
   "execution_count": 6,
   "metadata": {},
   "outputs": [
    {
     "data": {
      "text/html": [
       "<div>\n",
       "<style scoped>\n",
       "    .dataframe tbody tr th:only-of-type {\n",
       "        vertical-align: middle;\n",
       "    }\n",
       "\n",
       "    .dataframe tbody tr th {\n",
       "        vertical-align: top;\n",
       "    }\n",
       "\n",
       "    .dataframe thead th {\n",
       "        text-align: right;\n",
       "    }\n",
       "</style>\n",
       "<table border=\"1\" class=\"dataframe\">\n",
       "  <thead>\n",
       "    <tr style=\"text-align: right;\">\n",
       "      <th></th>\n",
       "      <th>IP</th>\n",
       "      <th>Total Sent</th>\n",
       "    </tr>\n",
       "  </thead>\n",
       "  <tbody>\n",
       "    <tr>\n",
       "      <th>0</th>\n",
       "      <td>192.168.0.190</td>\n",
       "      <td>617374262</td>\n",
       "    </tr>\n",
       "    <tr>\n",
       "      <th>1</th>\n",
       "      <td>192.168.0.10</td>\n",
       "      <td>608803668</td>\n",
       "    </tr>\n",
       "    <tr>\n",
       "      <th>2</th>\n",
       "      <td>192.168.0.162</td>\n",
       "      <td>24208988</td>\n",
       "    </tr>\n",
       "    <tr>\n",
       "      <th>3</th>\n",
       "      <td>192.168.0.156</td>\n",
       "      <td>16530287</td>\n",
       "    </tr>\n",
       "    <tr>\n",
       "      <th>4</th>\n",
       "      <td>192.168.0.181</td>\n",
       "      <td>12459374</td>\n",
       "    </tr>\n",
       "    <tr>\n",
       "      <th>5</th>\n",
       "      <td>192.168.0.175</td>\n",
       "      <td>12022903</td>\n",
       "    </tr>\n",
       "    <tr>\n",
       "      <th>6</th>\n",
       "      <td>192.168.0.177</td>\n",
       "      <td>11860791</td>\n",
       "    </tr>\n",
       "    <tr>\n",
       "      <th>7</th>\n",
       "      <td>192.168.0.159</td>\n",
       "      <td>10516534</td>\n",
       "    </tr>\n",
       "    <tr>\n",
       "      <th>8</th>\n",
       "      <td>192.168.0.158</td>\n",
       "      <td>10408294</td>\n",
       "    </tr>\n",
       "    <tr>\n",
       "      <th>9</th>\n",
       "      <td>192.168.0.176</td>\n",
       "      <td>10028781</td>\n",
       "    </tr>\n",
       "  </tbody>\n",
       "</table>\n",
       "</div>"
      ],
      "text/plain": [
       "              IP  Total Sent\n",
       "0  192.168.0.190   617374262\n",
       "1   192.168.0.10   608803668\n",
       "2  192.168.0.162    24208988\n",
       "3  192.168.0.156    16530287\n",
       "4  192.168.0.181    12459374\n",
       "5  192.168.0.175    12022903\n",
       "6  192.168.0.177    11860791\n",
       "7  192.168.0.159    10516534\n",
       "8  192.168.0.158    10408294\n",
       "9  192.168.0.176    10028781"
      ]
     },
     "execution_count": 6,
     "metadata": {},
     "output_type": "execute_result"
    }
   ],
   "source": [
    "\n",
    "data_filter=data.groupby(['IP'])['Total Sent'].agg('sum').sort_values(ascending=False).iloc[1:11].to_frame().reset_index()\n",
    "data_filter"
   ]
  },
  {
   "cell_type": "code",
   "execution_count": null,
   "metadata": {},
   "outputs": [],
   "source": []
  },
  {
   "cell_type": "code",
   "execution_count": 8,
   "metadata": {},
   "outputs": [
    {
     "data": {
      "application/vnd.plotly.v1+json": {
       "config": {
        "linkText": "Export to plot.ly",
        "plotlyServerURL": "https://plot.ly",
        "showLink": false
       },
       "data": [
        {
         "labels": [
          "192.168.0.190",
          "192.168.0.10",
          "192.168.0.162",
          "192.168.0.156",
          "192.168.0.181",
          "192.168.0.175",
          "192.168.0.177",
          "192.168.0.159",
          "192.168.0.158",
          "192.168.0.176"
         ],
         "title": {
          "text": "<b>Total Sent</b>"
         },
         "type": "pie",
         "uid": "9cccd8f4-2e43-4297-aef5-46d72a7abf93",
         "values": [
          617374262,
          608803668,
          24208988,
          16530287,
          12459374,
          12022903,
          11860791,
          10516534,
          10408294,
          10028781
         ]
        }
       ],
       "layout": {}
      },
      "text/html": [
       "<div id=\"7c059366-125c-4dda-935e-8edec0f76858\" style=\"height: 525px; width: 100%;\" class=\"plotly-graph-div\"></div><script type=\"text/javascript\">require([\"plotly\"], function(Plotly) { window.PLOTLYENV=window.PLOTLYENV || {};window.PLOTLYENV.BASE_URL=\"https://plot.ly\";\n",
       "if (document.getElementById(\"7c059366-125c-4dda-935e-8edec0f76858\")) {\n",
       "    Plotly.newPlot(\"7c059366-125c-4dda-935e-8edec0f76858\", [{\"labels\": [\"192.168.0.190\", \"192.168.0.10\", \"192.168.0.162\", \"192.168.0.156\", \"192.168.0.181\", \"192.168.0.175\", \"192.168.0.177\", \"192.168.0.159\", \"192.168.0.158\", \"192.168.0.176\"], \"title\": {\"text\": \"<b>Total Sent</b>\"}, \"values\": [617374262, 608803668, 24208988, 16530287, 12459374, 12022903, 11860791, 10516534, 10408294, 10028781], \"type\": \"pie\", \"uid\": \"8e5514e1-43d6-4e15-9018-523f594e9584\"}], {}, {\"showLink\": false, \"linkText\": \"Export to plot.ly\", \"plotlyServerURL\": \"https://plot.ly\"}); \n",
       "}\n",
       "});</script><script type=\"text/javascript\">window.addEventListener(\"resize\", function(){if (document.getElementById(\"7c059366-125c-4dda-935e-8edec0f76858\")) {window._Plotly.Plots.resize(document.getElementById(\"7c059366-125c-4dda-935e-8edec0f76858\"));};})</script>"
      ],
      "text/vnd.plotly.v1+html": [
       "<div id=\"7c059366-125c-4dda-935e-8edec0f76858\" style=\"height: 525px; width: 100%;\" class=\"plotly-graph-div\"></div><script type=\"text/javascript\">require([\"plotly\"], function(Plotly) { window.PLOTLYENV=window.PLOTLYENV || {};window.PLOTLYENV.BASE_URL=\"https://plot.ly\";\n",
       "if (document.getElementById(\"7c059366-125c-4dda-935e-8edec0f76858\")) {\n",
       "    Plotly.newPlot(\"7c059366-125c-4dda-935e-8edec0f76858\", [{\"labels\": [\"192.168.0.190\", \"192.168.0.10\", \"192.168.0.162\", \"192.168.0.156\", \"192.168.0.181\", \"192.168.0.175\", \"192.168.0.177\", \"192.168.0.159\", \"192.168.0.158\", \"192.168.0.176\"], \"title\": {\"text\": \"<b>Total Sent</b>\"}, \"values\": [617374262, 608803668, 24208988, 16530287, 12459374, 12022903, 11860791, 10516534, 10408294, 10028781], \"type\": \"pie\", \"uid\": \"8e5514e1-43d6-4e15-9018-523f594e9584\"}], {}, {\"showLink\": false, \"linkText\": \"Export to plot.ly\", \"plotlyServerURL\": \"https://plot.ly\"}); \n",
       "}\n",
       "});</script><script type=\"text/javascript\">window.addEventListener(\"resize\", function(){if (document.getElementById(\"7c059366-125c-4dda-935e-8edec0f76858\")) {window._Plotly.Plots.resize(document.getElementById(\"7c059366-125c-4dda-935e-8edec0f76858\"));};})</script>"
      ]
     },
     "metadata": {},
     "output_type": "display_data"
    }
   ],
   "source": [
    "data_filter=data.groupby(['IP'])['Total Sent'].agg('sum').sort_values(ascending=False).iloc[1:11].to_frame().reset_index()\n",
    "x=data_filter['IP'].tolist()\n",
    "y=data_filter['Total Sent'].tolist()\n",
    "labels = x\n",
    "values = y\n",
    "\n",
    "trace = go.Pie(title='<b>Total Sent</b>',\n",
    "               labels=labels,\n",
    "               values=values)\n",
    "\n",
    "iplot([trace], filename='basic_pie_chart')"
   ]
  },
  {
   "cell_type": "code",
   "execution_count": 9,
   "metadata": {},
   "outputs": [
    {
     "data": {
      "application/vnd.plotly.v1+json": {
       "config": {
        "linkText": "Export to plot.ly",
        "plotlyServerURL": "https://plot.ly",
        "showLink": false
       },
       "data": [
        {
         "labels": [
          "192.168.0.123",
          "192.168.0.156",
          "192.168.0.121",
          "192.168.0.170",
          "192.168.0.186",
          "192.168.0.183",
          "192.168.0.162",
          "192.168.0.126",
          "192.168.0.163",
          "192.168.0.133"
         ],
         "title": {
          "text": "<b>Total Received</b>"
         },
         "type": "pie",
         "uid": "324efa4d-8bb2-43d4-b212-f22e870ff328",
         "values": [
          129480,
          19544,
          18704,
          15680,
          784,
          532,
          56,
          0,
          0,
          0
         ]
        }
       ],
       "layout": {}
      },
      "text/html": [
       "<div id=\"a3825bbb-6ef5-4506-8285-b78f8edbecab\" style=\"height: 525px; width: 100%;\" class=\"plotly-graph-div\"></div><script type=\"text/javascript\">require([\"plotly\"], function(Plotly) { window.PLOTLYENV=window.PLOTLYENV || {};window.PLOTLYENV.BASE_URL=\"https://plot.ly\";\n",
       "if (document.getElementById(\"a3825bbb-6ef5-4506-8285-b78f8edbecab\")) {\n",
       "    Plotly.newPlot(\"a3825bbb-6ef5-4506-8285-b78f8edbecab\", [{\"labels\": [\"192.168.0.123\", \"192.168.0.156\", \"192.168.0.121\", \"192.168.0.170\", \"192.168.0.186\", \"192.168.0.183\", \"192.168.0.162\", \"192.168.0.126\", \"192.168.0.163\", \"192.168.0.133\"], \"title\": {\"text\": \"<b>Total Received</b>\"}, \"values\": [129480, 19544, 18704, 15680, 784, 532, 56, 0, 0, 0], \"type\": \"pie\", \"uid\": \"c7be1d02-a699-4751-a381-bcc763937510\"}], {}, {\"showLink\": false, \"linkText\": \"Export to plot.ly\", \"plotlyServerURL\": \"https://plot.ly\"}); \n",
       "}\n",
       "});</script><script type=\"text/javascript\">window.addEventListener(\"resize\", function(){if (document.getElementById(\"a3825bbb-6ef5-4506-8285-b78f8edbecab\")) {window._Plotly.Plots.resize(document.getElementById(\"a3825bbb-6ef5-4506-8285-b78f8edbecab\"));};})</script>"
      ],
      "text/vnd.plotly.v1+html": [
       "<div id=\"a3825bbb-6ef5-4506-8285-b78f8edbecab\" style=\"height: 525px; width: 100%;\" class=\"plotly-graph-div\"></div><script type=\"text/javascript\">require([\"plotly\"], function(Plotly) { window.PLOTLYENV=window.PLOTLYENV || {};window.PLOTLYENV.BASE_URL=\"https://plot.ly\";\n",
       "if (document.getElementById(\"a3825bbb-6ef5-4506-8285-b78f8edbecab\")) {\n",
       "    Plotly.newPlot(\"a3825bbb-6ef5-4506-8285-b78f8edbecab\", [{\"labels\": [\"192.168.0.123\", \"192.168.0.156\", \"192.168.0.121\", \"192.168.0.170\", \"192.168.0.186\", \"192.168.0.183\", \"192.168.0.162\", \"192.168.0.126\", \"192.168.0.163\", \"192.168.0.133\"], \"title\": {\"text\": \"<b>Total Received</b>\"}, \"values\": [129480, 19544, 18704, 15680, 784, 532, 56, 0, 0, 0], \"type\": \"pie\", \"uid\": \"c7be1d02-a699-4751-a381-bcc763937510\"}], {}, {\"showLink\": false, \"linkText\": \"Export to plot.ly\", \"plotlyServerURL\": \"https://plot.ly\"}); \n",
       "}\n",
       "});</script><script type=\"text/javascript\">window.addEventListener(\"resize\", function(){if (document.getElementById(\"a3825bbb-6ef5-4506-8285-b78f8edbecab\")) {window._Plotly.Plots.resize(document.getElementById(\"a3825bbb-6ef5-4506-8285-b78f8edbecab\"));};})</script>"
      ]
     },
     "metadata": {},
     "output_type": "display_data"
    }
   ],
   "source": [
    "data_filter=data.groupby(['IP'])['Total Received'].agg('sum').sort_values(ascending=False).iloc[1:11].to_frame().reset_index()\n",
    "x=data_filter['IP'].tolist()\n",
    "y=data_filter['Total Received'].tolist()\n",
    "labels = x\n",
    "values = y\n",
    "\n",
    "trace = go.Pie(\n",
    "    title='<b>Total Received</b>',\n",
    "    labels=labels, \n",
    "    values=values, )\n",
    "\n",
    "iplot([trace], filename='basic_pie_chart')\n",
    "\n"
   ]
  },
  {
   "cell_type": "code",
   "execution_count": null,
   "metadata": {},
   "outputs": [],
   "source": []
  },
  {
   "cell_type": "code",
   "execution_count": null,
   "metadata": {},
   "outputs": [],
   "source": []
  },
  {
   "cell_type": "code",
   "execution_count": null,
   "metadata": {},
   "outputs": [],
   "source": []
  }
 ],
 "metadata": {
  "kernelspec": {
   "display_name": "Python 3",
   "language": "python",
   "name": "python3"
  },
  "language_info": {
   "codemirror_mode": {
    "name": "ipython",
    "version": 3
   },
   "file_extension": ".py",
   "mimetype": "text/x-python",
   "name": "python",
   "nbconvert_exporter": "python",
   "pygments_lexer": "ipython3",
   "version": "3.7.1"
  }
 },
 "nbformat": 4,
 "nbformat_minor": 2
}
