{
 "cells": [
  {
   "cell_type": "code",
   "execution_count": 2,
   "metadata": {},
   "outputs": [],
   "source": [
    "import pandas as pd\n",
    "import numpy as np "
   ]
  },
  {
   "cell_type": "code",
   "execution_count": 17,
   "metadata": {},
   "outputs": [],
   "source": [
    "data = pd.read_csv('logbandwidth.txt', sep=',', engine='python',error_bad_lines=False, index_col=False,\n",
    "                   names=['IP', 'a','b','','c','d','e','f','g','h','i','j','k','l','m'])"
   ]
  },
  {
   "cell_type": "code",
   "execution_count": 18,
   "metadata": {},
   "outputs": [
    {
     "data": {
      "text/html": [
       "<div>\n",
       "<style scoped>\n",
       "    .dataframe tbody tr th:only-of-type {\n",
       "        vertical-align: middle;\n",
       "    }\n",
       "\n",
       "    .dataframe tbody tr th {\n",
       "        vertical-align: top;\n",
       "    }\n",
       "\n",
       "    .dataframe thead th {\n",
       "        text-align: right;\n",
       "    }\n",
       "</style>\n",
       "<table border=\"1\" class=\"dataframe\">\n",
       "  <thead>\n",
       "    <tr style=\"text-align: right;\">\n",
       "      <th></th>\n",
       "      <th>IP</th>\n",
       "      <th>a</th>\n",
       "      <th>b</th>\n",
       "      <th></th>\n",
       "      <th>c</th>\n",
       "      <th>d</th>\n",
       "      <th>e</th>\n",
       "      <th>f</th>\n",
       "      <th>g</th>\n",
       "      <th>h</th>\n",
       "      <th>i</th>\n",
       "      <th>j</th>\n",
       "      <th>k</th>\n",
       "      <th>l</th>\n",
       "      <th>m</th>\n",
       "    </tr>\n",
       "  </thead>\n",
       "  <tbody>\n",
       "    <tr>\n",
       "      <th>0</th>\n",
       "      <td>192.168.0.175</td>\n",
       "      <td>1553749645</td>\n",
       "      <td>94156</td>\n",
       "      <td>0</td>\n",
       "      <td>2008</td>\n",
       "      <td>92148</td>\n",
       "      <td>0</td>\n",
       "      <td>87338</td>\n",
       "      <td>0</td>\n",
       "      <td>131358</td>\n",
       "      <td>0</td>\n",
       "      <td>672</td>\n",
       "      <td>130686</td>\n",
       "      <td>0</td>\n",
       "      <td>126184</td>\n",
       "    </tr>\n",
       "    <tr>\n",
       "      <th>1</th>\n",
       "      <td>0.0.0.0</td>\n",
       "      <td>1553749645</td>\n",
       "      <td>987326</td>\n",
       "      <td>0</td>\n",
       "      <td>113020</td>\n",
       "      <td>874214</td>\n",
       "      <td>0</td>\n",
       "      <td>863945</td>\n",
       "      <td>0</td>\n",
       "      <td>13371791</td>\n",
       "      <td>1160</td>\n",
       "      <td>95131</td>\n",
       "      <td>13275500</td>\n",
       "      <td>0</td>\n",
       "      <td>13266415</td>\n",
       "    </tr>\n",
       "    <tr>\n",
       "      <th>2</th>\n",
       "      <td>192.168.0.181</td>\n",
       "      <td>1553749645</td>\n",
       "      <td>86538</td>\n",
       "      <td>0</td>\n",
       "      <td>28812</td>\n",
       "      <td>57726</td>\n",
       "      <td>0</td>\n",
       "      <td>55596</td>\n",
       "      <td>0</td>\n",
       "      <td>118317</td>\n",
       "      <td>0</td>\n",
       "      <td>22779</td>\n",
       "      <td>95538</td>\n",
       "      <td>0</td>\n",
       "      <td>93315</td>\n",
       "    </tr>\n",
       "    <tr>\n",
       "      <th>3</th>\n",
       "      <td>192.168.0.176</td>\n",
       "      <td>1553749645</td>\n",
       "      <td>72694</td>\n",
       "      <td>0</td>\n",
       "      <td>4944</td>\n",
       "      <td>67750</td>\n",
       "      <td>0</td>\n",
       "      <td>67750</td>\n",
       "      <td>0</td>\n",
       "      <td>120077</td>\n",
       "      <td>0</td>\n",
       "      <td>3268</td>\n",
       "      <td>116809</td>\n",
       "      <td>0</td>\n",
       "      <td>116809</td>\n",
       "    </tr>\n",
       "    <tr>\n",
       "      <th>4</th>\n",
       "      <td>192.168.0.188</td>\n",
       "      <td>1553749645</td>\n",
       "      <td>33758</td>\n",
       "      <td>0</td>\n",
       "      <td>25019</td>\n",
       "      <td>8739</td>\n",
       "      <td>0</td>\n",
       "      <td>8295</td>\n",
       "      <td>0</td>\n",
       "      <td>42020</td>\n",
       "      <td>0</td>\n",
       "      <td>19160</td>\n",
       "      <td>22860</td>\n",
       "      <td>0</td>\n",
       "      <td>22492</td>\n",
       "    </tr>\n",
       "  </tbody>\n",
       "</table>\n",
       "</div>"
      ],
      "text/plain": [
       "              IP           a       b          c       d  e       f  g  \\\n",
       "0  192.168.0.175  1553749645   94156  0    2008   92148  0   87338  0   \n",
       "1        0.0.0.0  1553749645  987326  0  113020  874214  0  863945  0   \n",
       "2  192.168.0.181  1553749645   86538  0   28812   57726  0   55596  0   \n",
       "3  192.168.0.176  1553749645   72694  0    4944   67750  0   67750  0   \n",
       "4  192.168.0.188  1553749645   33758  0   25019    8739  0    8295  0   \n",
       "\n",
       "          h     i      j         k  l         m  \n",
       "0    131358     0    672    130686  0    126184  \n",
       "1  13371791  1160  95131  13275500  0  13266415  \n",
       "2    118317     0  22779     95538  0     93315  \n",
       "3    120077     0   3268    116809  0    116809  \n",
       "4     42020     0  19160     22860  0     22492  "
      ]
     },
     "execution_count": 18,
     "metadata": {},
     "output_type": "execute_result"
    }
   ],
   "source": [
    "data.head()"
   ]
  },
  {
   "cell_type": "code",
   "execution_count": 88,
   "metadata": {},
   "outputs": [
    {
     "data": {
      "text/html": [
       "<div>\n",
       "<style scoped>\n",
       "    .dataframe tbody tr th:only-of-type {\n",
       "        vertical-align: middle;\n",
       "    }\n",
       "\n",
       "    .dataframe tbody tr th {\n",
       "        vertical-align: top;\n",
       "    }\n",
       "\n",
       "    .dataframe thead th {\n",
       "        text-align: right;\n",
       "    }\n",
       "</style>\n",
       "<table border=\"1\" class=\"dataframe\">\n",
       "  <thead>\n",
       "    <tr style=\"text-align: right;\">\n",
       "      <th></th>\n",
       "      <th>IP</th>\n",
       "      <th>m</th>\n",
       "    </tr>\n",
       "  </thead>\n",
       "  <tbody>\n",
       "    <tr>\n",
       "      <th>0</th>\n",
       "      <td>192.168.0.10</td>\n",
       "      <td>1767076157</td>\n",
       "    </tr>\n",
       "    <tr>\n",
       "      <th>1</th>\n",
       "      <td>192.168.0.158</td>\n",
       "      <td>139124967</td>\n",
       "    </tr>\n",
       "    <tr>\n",
       "      <th>2</th>\n",
       "      <td>192.168.0.190</td>\n",
       "      <td>100987815</td>\n",
       "    </tr>\n",
       "    <tr>\n",
       "      <th>3</th>\n",
       "      <td>192.168.0.183</td>\n",
       "      <td>93836426</td>\n",
       "    </tr>\n",
       "    <tr>\n",
       "      <th>4</th>\n",
       "      <td>192.168.0.168</td>\n",
       "      <td>90941464</td>\n",
       "    </tr>\n",
       "    <tr>\n",
       "      <th>5</th>\n",
       "      <td>192.168.0.170</td>\n",
       "      <td>90807425</td>\n",
       "    </tr>\n",
       "    <tr>\n",
       "      <th>6</th>\n",
       "      <td>192.168.0.172</td>\n",
       "      <td>83524751</td>\n",
       "    </tr>\n",
       "    <tr>\n",
       "      <th>7</th>\n",
       "      <td>192.168.0.167</td>\n",
       "      <td>81414040</td>\n",
       "    </tr>\n",
       "    <tr>\n",
       "      <th>8</th>\n",
       "      <td>192.168.0.156</td>\n",
       "      <td>75766651</td>\n",
       "    </tr>\n",
       "    <tr>\n",
       "      <th>9</th>\n",
       "      <td>192.168.0.161</td>\n",
       "      <td>65496268</td>\n",
       "    </tr>\n",
       "  </tbody>\n",
       "</table>\n",
       "</div>"
      ],
      "text/plain": [
       "              IP           m\n",
       "0   192.168.0.10  1767076157\n",
       "1  192.168.0.158   139124967\n",
       "2  192.168.0.190   100987815\n",
       "3  192.168.0.183    93836426\n",
       "4  192.168.0.168    90941464\n",
       "5  192.168.0.170    90807425\n",
       "6  192.168.0.172    83524751\n",
       "7  192.168.0.167    81414040\n",
       "8  192.168.0.156    75766651\n",
       "9  192.168.0.161    65496268"
      ]
     },
     "execution_count": 88,
     "metadata": {},
     "output_type": "execute_result"
    }
   ],
   "source": [
    "\n",
    "data_filter=data.groupby(['IP'])['m'].agg('sum').sort_values(ascending=False).iloc[1:11].to_frame().reset_index()\n",
    "data_filter"
   ]
  },
  {
   "cell_type": "code",
   "execution_count": 58,
   "metadata": {},
   "outputs": [
    {
     "data": {
      "text/plain": [
       "2786134433"
      ]
     },
     "execution_count": 58,
     "metadata": {},
     "output_type": "execute_result"
    }
   ],
   "source": [
    "data['m'].agg('sum')-2786134435"
   ]
  },
  {
   "cell_type": "code",
   "execution_count": 89,
   "metadata": {},
   "outputs": [
    {
     "data": {
      "text/plain": [
       "['192.168.0.10',\n",
       " '192.168.0.158',\n",
       " '192.168.0.190',\n",
       " '192.168.0.183',\n",
       " '192.168.0.168',\n",
       " '192.168.0.170',\n",
       " '192.168.0.172',\n",
       " '192.168.0.167',\n",
       " '192.168.0.156',\n",
       " '192.168.0.161']"
      ]
     },
     "execution_count": 89,
     "metadata": {},
     "output_type": "execute_result"
    }
   ],
   "source": [
    "x=data_filter['IP'].tolist()\n",
    "y=data_filter['m'].tolist()"
   ]
  }
 ],
 "metadata": {
  "kernelspec": {
   "display_name": "Python 3",
   "language": "python",
   "name": "python3"
  },
  "language_info": {
   "codemirror_mode": {
    "name": "ipython",
    "version": 3
   },
   "file_extension": ".py",
   "mimetype": "text/x-python",
   "name": "python",
   "nbconvert_exporter": "python",
   "pygments_lexer": "ipython3",
   "version": "3.7.1"
  }
 },
 "nbformat": 4,
 "nbformat_minor": 2
}
