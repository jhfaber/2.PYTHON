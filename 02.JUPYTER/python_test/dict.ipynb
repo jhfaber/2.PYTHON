{
 "cells": [
  {
   "cell_type": "code",
   "execution_count": 8,
   "metadata": {},
   "outputs": [],
   "source": [
    "import requests\n",
    "import json\n",
    "import pandas as pd\n",
    "# from requests_toolbelt.utils import dump\n"
   ]
  },
  {
   "cell_type": "code",
   "execution_count": 10,
   "metadata": {},
   "outputs": [],
   "source": [
    "dict=[{\"id\": \"841c254e-8c6e-45d5-93f1-0fe33fb2bf55\", \"orderId\": 7341246, \"subscriptionId\": \"4627edvl1je2\", \"state\": \"PAID\", \"amount\": 49, \"currency\": \"MXN\", \"dateCharge\": 1461992400000}, {\"id\": \"e703cfd3-55ca-4011-bd67-57a9f900325d\", \"orderId\": 7358464, \"subscriptionId\": \"4627edvl1je2\", \"state\": \"PAID\", \"amount\": 49, \"currency\": \"MXN\", \"dateCharge\": 1464584400000}, {\"id\": \"c6b15c65-fb2f-4e95-a5ec-17b874a69439\", \"orderId\": 7393321, \"subscriptionId\": \"4627edvl1je2\", \"state\": \"NOT_PAID\", \"amount\": 49, \"currency\": \"MXN\", \"dateCharge\": 1467262800000}, {\"id\": \"1f0f78a8-7ea4-4cbd-9e21-610d8aa37233\", \"subscriptionId\": \"4627edvl1je2\", \"state\": \"CANCELLED\", \"amount\": 49, \"currency\": \"MXN\", \"dateCharge\": 1469854800000}]"
   ]
  },
  {
   "cell_type": "code",
   "execution_count": 16,
   "metadata": {},
   "outputs": [
    {
     "data": {
      "text/plain": [
       "[{'id': '841c254e-8c6e-45d5-93f1-0fe33fb2bf55',\n",
       "  'orderId': 7341246,\n",
       "  'subscriptionId': '4627edvl1je2',\n",
       "  'state': 'PAID',\n",
       "  'amount': 49,\n",
       "  'currency': 'MXN',\n",
       "  'dateCharge': 1461992400000},\n",
       " {'id': 'e703cfd3-55ca-4011-bd67-57a9f900325d',\n",
       "  'orderId': 7358464,\n",
       "  'subscriptionId': '4627edvl1je2',\n",
       "  'state': 'PAID',\n",
       "  'amount': 49,\n",
       "  'currency': 'MXN',\n",
       "  'dateCharge': 1464584400000},\n",
       " {'id': 'c6b15c65-fb2f-4e95-a5ec-17b874a69439',\n",
       "  'orderId': 7393321,\n",
       "  'subscriptionId': '4627edvl1je2',\n",
       "  'state': 'NOT_PAID',\n",
       "  'amount': 49,\n",
       "  'currency': 'MXN',\n",
       "  'dateCharge': 1467262800000},\n",
       " {'id': '1f0f78a8-7ea4-4cbd-9e21-610d8aa37233',\n",
       "  'subscriptionId': '4627edvl1je2',\n",
       "  'state': 'CANCELLED',\n",
       "  'amount': 49,\n",
       "  'currency': 'MXN',\n",
       "  'dateCharge': 1469854800000}]"
      ]
     },
     "execution_count": 16,
     "metadata": {},
     "output_type": "execute_result"
    }
   ],
   "source": [
    "dict"
   ]
  },
  {
   "cell_type": "code",
   "execution_count": 14,
   "metadata": {},
   "outputs": [
    {
     "data": {
      "text/html": [
       "<div>\n",
       "<style scoped>\n",
       "    .dataframe tbody tr th:only-of-type {\n",
       "        vertical-align: middle;\n",
       "    }\n",
       "\n",
       "    .dataframe tbody tr th {\n",
       "        vertical-align: top;\n",
       "    }\n",
       "\n",
       "    .dataframe thead th {\n",
       "        text-align: right;\n",
       "    }\n",
       "</style>\n",
       "<table border=\"1\" class=\"dataframe\">\n",
       "  <thead>\n",
       "    <tr style=\"text-align: right;\">\n",
       "      <th></th>\n",
       "      <th>amount</th>\n",
       "      <th>currency</th>\n",
       "      <th>dateCharge</th>\n",
       "      <th>id</th>\n",
       "      <th>orderId</th>\n",
       "      <th>state</th>\n",
       "      <th>subscriptionId</th>\n",
       "    </tr>\n",
       "  </thead>\n",
       "  <tbody>\n",
       "    <tr>\n",
       "      <th>0</th>\n",
       "      <td>49</td>\n",
       "      <td>MXN</td>\n",
       "      <td>1461992400000</td>\n",
       "      <td>841c254e-8c6e-45d5-93f1-0fe33fb2bf55</td>\n",
       "      <td>7341246.0</td>\n",
       "      <td>PAID</td>\n",
       "      <td>4627edvl1je2</td>\n",
       "    </tr>\n",
       "    <tr>\n",
       "      <th>1</th>\n",
       "      <td>49</td>\n",
       "      <td>MXN</td>\n",
       "      <td>1464584400000</td>\n",
       "      <td>e703cfd3-55ca-4011-bd67-57a9f900325d</td>\n",
       "      <td>7358464.0</td>\n",
       "      <td>PAID</td>\n",
       "      <td>4627edvl1je2</td>\n",
       "    </tr>\n",
       "    <tr>\n",
       "      <th>2</th>\n",
       "      <td>49</td>\n",
       "      <td>MXN</td>\n",
       "      <td>1467262800000</td>\n",
       "      <td>c6b15c65-fb2f-4e95-a5ec-17b874a69439</td>\n",
       "      <td>7393321.0</td>\n",
       "      <td>NOT_PAID</td>\n",
       "      <td>4627edvl1je2</td>\n",
       "    </tr>\n",
       "    <tr>\n",
       "      <th>3</th>\n",
       "      <td>49</td>\n",
       "      <td>MXN</td>\n",
       "      <td>1469854800000</td>\n",
       "      <td>1f0f78a8-7ea4-4cbd-9e21-610d8aa37233</td>\n",
       "      <td>NaN</td>\n",
       "      <td>CANCELLED</td>\n",
       "      <td>4627edvl1je2</td>\n",
       "    </tr>\n",
       "  </tbody>\n",
       "</table>\n",
       "</div>"
      ],
      "text/plain": [
       "   amount currency     dateCharge                                    id  \\\n",
       "0      49      MXN  1461992400000  841c254e-8c6e-45d5-93f1-0fe33fb2bf55   \n",
       "1      49      MXN  1464584400000  e703cfd3-55ca-4011-bd67-57a9f900325d   \n",
       "2      49      MXN  1467262800000  c6b15c65-fb2f-4e95-a5ec-17b874a69439   \n",
       "3      49      MXN  1469854800000  1f0f78a8-7ea4-4cbd-9e21-610d8aa37233   \n",
       "\n",
       "     orderId      state subscriptionId  \n",
       "0  7341246.0       PAID   4627edvl1je2  \n",
       "1  7358464.0       PAID   4627edvl1je2  \n",
       "2  7393321.0   NOT_PAID   4627edvl1je2  \n",
       "3        NaN  CANCELLED   4627edvl1je2  "
      ]
     },
     "execution_count": 14,
     "metadata": {},
     "output_type": "execute_result"
    }
   ],
   "source": [
    "data =pd.DataFrame.from_dict(dict)\n",
    "data"
   ]
  },
  {
   "cell_type": "code",
   "execution_count": 15,
   "metadata": {},
   "outputs": [
    {
     "name": "stdout",
     "output_type": "stream",
     "text": [
      "{'inmediatePayment': '1'}\n"
     ]
    }
   ],
   "source": [
    "response = {}\n",
    "data= {\n",
    "    \"inmediatePayment\" : \"true\"\n",
    "}\n",
    "\n",
    "\n",
    "\n",
    "if(\"inmediatePayment\" in data):\n",
    "    response[\"inmediatePayment\"] = \"1\" if (data[\"inmediatePayment\"]==\"true\") else \"0\"\n",
    "    response[\"inmediatePayment\"] = \"1\"\n",
    "else:\n",
    "    response[\"inmediatePayment\"] = \"0\"\n",
    "    \n",
    "print(response)"
   ]
  },
  {
   "cell_type": "code",
   "execution_count": 20,
   "metadata": {},
   "outputs": [
    {
     "name": "stdout",
     "output_type": "stream",
     "text": [
      "0 nana\n",
      "1 pama\n",
      "2 surprised\n"
     ]
    }
   ],
   "source": [
    "array = ['nana', 'pama', 'surprised']\n",
    "\n",
    "for (i, item) in enumerate(array):\n",
    "    print(i, item)\n"
   ]
  }
 ],
 "metadata": {
  "kernelspec": {
   "display_name": "Python 3",
   "language": "python",
   "name": "python3"
  },
  "language_info": {
   "codemirror_mode": {
    "name": "ipython",
    "version": 3
   },
   "file_extension": ".py",
   "mimetype": "text/x-python",
   "name": "python",
   "nbconvert_exporter": "python",
   "pygments_lexer": "ipython3",
   "version": "3.7.1"
  }
 },
 "nbformat": 4,
 "nbformat_minor": 2
}
