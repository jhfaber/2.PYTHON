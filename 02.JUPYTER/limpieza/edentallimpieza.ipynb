{
 "cells": [
  {
   "cell_type": "code",
   "execution_count": 1,
   "metadata": {},
   "outputs": [],
   "source": [
    "import pandas as pd\n",
    "import json, os\n",
    "import sys\n",
    "import traceback"
   ]
  },
  {
   "cell_type": "code",
   "execution_count": 2,
   "metadata": {},
   "outputs": [],
   "source": [
    "  \n",
    "\n",
    "    \n",
    "ESTRUCTURA_ARCHIVO= 'conf\\\\glarchivo_estructura.json'\n",
    "with open(ESTRUCTURA_ARCHIVO, 'r') as file:\n",
    "    gl_estructura = json.load(file)\n",
    "    \n",
    "\n",
    "gl_ruta = \"LIQUIDA65.LIQ\"\n",
    "gl_data = pd.read_csv(gl_ruta, names=['original'])\n",
    "gl_error = '0'\n",
    "gl_funcion_actual ='no_funcion_actual'\n",
    "\n"
   ]
  },
  {
   "cell_type": "code",
   "execution_count": null,
   "metadata": {},
   "outputs": [],
   "source": []
  },
  {
   "cell_type": "code",
   "execution_count": 3,
   "metadata": {},
   "outputs": [],
   "source": [
    "def fun_formatear_campos_definidos():\n",
    "    global gl_funcion_actual\n",
    "    gl_funcion_actual=\"fun_formatear_campos_definidos\"\n",
    "    for (i, item) in enumerate(gl_estructura):\n",
    "        gl_data[item['nombre']]=gl_data[\"original\"].apply(lambda x:x[item['inicio']:item['fin']])\n",
    "\n",
    "    \n",
    "def fun_elimina_linea(linea):\n",
    "    global gl_data\n",
    "    global gl_funcion_actual\n",
    "    gl_funcion_actual=\"fun_elimina_linea\"\n",
    "    try:\n",
    "        if(linea != -1):\n",
    "            gl_data = gl_data.drop(linea, axis=0) \n",
    "        else:\n",
    "            gl_data = gl_data[:-1]\n",
    "    except Exception as e:\n",
    "        print(sys.exc_info()[0])\n",
    "        print(e)\n",
    "        print(traceback.format_exc())\n",
    "\n",
    "             \n",
    "             \n",
    "             \n",
    "             \n",
    "\n",
    "        \n",
    "    \n",
    "\n"
   ]
  },
  {
   "cell_type": "code",
   "execution_count": 4,
   "metadata": {},
   "outputs": [],
   "source": [
    "fun_formatear_campos_definidos()\n"
   ]
  },
  {
   "cell_type": "code",
   "execution_count": 5,
   "metadata": {},
   "outputs": [
    {
     "data": {
      "text/html": [
       "<div>\n",
       "<style scoped>\n",
       "    .dataframe tbody tr th:only-of-type {\n",
       "        vertical-align: middle;\n",
       "    }\n",
       "\n",
       "    .dataframe tbody tr th {\n",
       "        vertical-align: top;\n",
       "    }\n",
       "\n",
       "    .dataframe thead th {\n",
       "        text-align: right;\n",
       "    }\n",
       "</style>\n",
       "<table border=\"1\" class=\"dataframe\">\n",
       "  <thead>\n",
       "    <tr style=\"text-align: right;\">\n",
       "      <th></th>\n",
       "      <th>original</th>\n",
       "      <th>ORIGEN</th>\n",
       "      <th>PROPUESTA</th>\n",
       "      <th>PLAN</th>\n",
       "      <th>POLIZA</th>\n",
       "      <th>CERTIFICADO</th>\n",
       "      <th>LIBRE</th>\n",
       "      <th>FECHA_RECTOR</th>\n",
       "      <th>FECHA_DESDE</th>\n",
       "      <th>FECHA_HASTA</th>\n",
       "      <th>...</th>\n",
       "      <th>VALOR_UF</th>\n",
       "      <th>PRIMA_PESO</th>\n",
       "      <th>VACIO</th>\n",
       "      <th>LIBRE2</th>\n",
       "      <th>GLOSA</th>\n",
       "      <th>DOCUMENTO</th>\n",
       "      <th>VERIFICADOR</th>\n",
       "      <th>PRIMA * IVA</th>\n",
       "      <th>FECHA_NACIMIENTO</th>\n",
       "      <th>FECHA_NACIMIENTO_CON</th>\n",
       "    </tr>\n",
       "  </thead>\n",
       "  <tbody>\n",
       "    <tr>\n",
       "      <th>0</th>\n",
       "      <td>H000065LI201905070018882019040120190430001886 ...</td>\n",
       "      <td>H0</td>\n",
       "      <td>00065LI20190</td>\n",
       "      <td>507001</td>\n",
       "      <td>888201904012</td>\n",
       "      <td>019043000</td>\n",
       "      <td>1886</td>\n",
       "      <td></td>\n",
       "      <td></td>\n",
       "      <td></td>\n",
       "      <td>...</td>\n",
       "      <td></td>\n",
       "      <td></td>\n",
       "      <td></td>\n",
       "      <td></td>\n",
       "      <td></td>\n",
       "      <td></td>\n",
       "      <td></td>\n",
       "      <td></td>\n",
       "      <td></td>\n",
       "      <td></td>\n",
       "    </tr>\n",
       "    <tr>\n",
       "      <th>1</th>\n",
       "      <td>50000041929505SOADPV00000000000000000000000000...</td>\n",
       "      <td>50</td>\n",
       "      <td>000041929505</td>\n",
       "      <td>SOADPV</td>\n",
       "      <td>000000000000</td>\n",
       "      <td>000000000</td>\n",
       "      <td>0000000</td>\n",
       "      <td>20190417</td>\n",
       "      <td>20100811</td>\n",
       "      <td>20500101</td>\n",
       "      <td>...</td>\n",
       "      <td>000002760245</td>\n",
       "      <td>0000013525</td>\n",
       "      <td>000</td>\n",
       "      <td>0000000000</td>\n",
       "      <td>CARGO NORMAL</td>\n",
       "      <td>012630837</td>\n",
       "      <td>K</td>\n",
       "      <td>0000000002160</td>\n",
       "      <td>19740111</td>\n",
       "      <td>19740111</td>\n",
       "    </tr>\n",
       "    <tr>\n",
       "      <th>2</th>\n",
       "      <td>50000041840759SOADPV00000000000000000000000000...</td>\n",
       "      <td>50</td>\n",
       "      <td>000041840759</td>\n",
       "      <td>SOADPV</td>\n",
       "      <td>000000000000</td>\n",
       "      <td>000000000</td>\n",
       "      <td>0000000</td>\n",
       "      <td>20190417</td>\n",
       "      <td>20100630</td>\n",
       "      <td>20500101</td>\n",
       "      <td>...</td>\n",
       "      <td>000002760245</td>\n",
       "      <td>0000013525</td>\n",
       "      <td>000</td>\n",
       "      <td>0000000000</td>\n",
       "      <td>CARGO NORMAL</td>\n",
       "      <td>004680021</td>\n",
       "      <td>4</td>\n",
       "      <td>0000000002160</td>\n",
       "      <td>19440818</td>\n",
       "      <td>19440818</td>\n",
       "    </tr>\n",
       "    <tr>\n",
       "      <th>3</th>\n",
       "      <td>50000042091191SOADPV00000000000000000000000000...</td>\n",
       "      <td>50</td>\n",
       "      <td>000042091191</td>\n",
       "      <td>SOADPV</td>\n",
       "      <td>000000000000</td>\n",
       "      <td>000000000</td>\n",
       "      <td>0000000</td>\n",
       "      <td>20190427</td>\n",
       "      <td>20101021</td>\n",
       "      <td>20500101</td>\n",
       "      <td>...</td>\n",
       "      <td>000002764837</td>\n",
       "      <td>0000013548</td>\n",
       "      <td>000</td>\n",
       "      <td>0000000000</td>\n",
       "      <td>CARGO NORMAL</td>\n",
       "      <td>014079043</td>\n",
       "      <td>5</td>\n",
       "      <td>0000000002164</td>\n",
       "      <td>19811115</td>\n",
       "      <td>19811115</td>\n",
       "    </tr>\n",
       "    <tr>\n",
       "      <th>4</th>\n",
       "      <td>50000042082933SOADPV00000000000000000000000000...</td>\n",
       "      <td>50</td>\n",
       "      <td>000042082933</td>\n",
       "      <td>SOADPV</td>\n",
       "      <td>000000000000</td>\n",
       "      <td>000000000</td>\n",
       "      <td>0000000</td>\n",
       "      <td>20190427</td>\n",
       "      <td>20101018</td>\n",
       "      <td>20500101</td>\n",
       "      <td>...</td>\n",
       "      <td>000002764837</td>\n",
       "      <td>0000013548</td>\n",
       "      <td>000</td>\n",
       "      <td>0000000000</td>\n",
       "      <td>CARGO NORMAL</td>\n",
       "      <td>010201813</td>\n",
       "      <td>3</td>\n",
       "      <td>0000000002164</td>\n",
       "      <td>19661016</td>\n",
       "      <td>19661016</td>\n",
       "    </tr>\n",
       "  </tbody>\n",
       "</table>\n",
       "<p>5 rows × 25 columns</p>\n",
       "</div>"
      ],
      "text/plain": [
       "                                            original ORIGEN     PROPUESTA  \\\n",
       "0  H000065LI201905070018882019040120190430001886 ...     H0  00065LI20190   \n",
       "1  50000041929505SOADPV00000000000000000000000000...     50  000041929505   \n",
       "2  50000041840759SOADPV00000000000000000000000000...     50  000041840759   \n",
       "3  50000042091191SOADPV00000000000000000000000000...     50  000042091191   \n",
       "4  50000042082933SOADPV00000000000000000000000000...     50  000042082933   \n",
       "\n",
       "     PLAN        POLIZA CERTIFICADO    LIBRE FECHA_RECTOR FECHA_DESDE  \\\n",
       "0  507001  888201904012   019043000  1886                               \n",
       "1  SOADPV  000000000000   000000000  0000000     20190417    20100811   \n",
       "2  SOADPV  000000000000   000000000  0000000     20190417    20100630   \n",
       "3  SOADPV  000000000000   000000000  0000000     20190427    20101021   \n",
       "4  SOADPV  000000000000   000000000  0000000     20190427    20101018   \n",
       "\n",
       "  FECHA_HASTA         ...               VALOR_UF  PRIMA_PESO VACIO  \\\n",
       "0                     ...                                            \n",
       "1    20500101         ...           000002760245  0000013525   000   \n",
       "2    20500101         ...           000002760245  0000013525   000   \n",
       "3    20500101         ...           000002764837  0000013548   000   \n",
       "4    20500101         ...           000002764837  0000013548   000   \n",
       "\n",
       "       LIBRE2                           GLOSA  DOCUMENTO VERIFICADOR  \\\n",
       "0                                                                      \n",
       "1  0000000000                    CARGO NORMAL  012630837           K   \n",
       "2  0000000000                    CARGO NORMAL  004680021           4   \n",
       "3  0000000000                    CARGO NORMAL  014079043           5   \n",
       "4  0000000000                    CARGO NORMAL  010201813           3   \n",
       "\n",
       "     PRIMA * IVA FECHA_NACIMIENTO FECHA_NACIMIENTO_CON  \n",
       "0                                                       \n",
       "1  0000000002160         19740111             19740111  \n",
       "2  0000000002160         19440818             19440818  \n",
       "3  0000000002164         19811115             19811115  \n",
       "4  0000000002164         19661016             19661016  \n",
       "\n",
       "[5 rows x 25 columns]"
      ]
     },
     "execution_count": 5,
     "metadata": {},
     "output_type": "execute_result"
    }
   ],
   "source": [
    "gl_data.head()"
   ]
  },
  {
   "cell_type": "code",
   "execution_count": 6,
   "metadata": {},
   "outputs": [
    {
     "data": {
      "text/plain": [
       "(1888, 25)"
      ]
     },
     "execution_count": 6,
     "metadata": {},
     "output_type": "execute_result"
    }
   ],
   "source": [
    "gl_data.shape"
   ]
  },
  {
   "cell_type": "code",
   "execution_count": 7,
   "metadata": {},
   "outputs": [
    {
     "data": {
      "text/plain": [
       "original                50000041840759SOADPV00000000000000000000000000...\n",
       "ORIGEN                                                                 50\n",
       "PROPUESTA                                                    000041840759\n",
       "PLAN                                                               SOADPV\n",
       "POLIZA                                                       000000000000\n",
       "CERTIFICADO                                                     000000000\n",
       "LIBRE                                                             0000000\n",
       "FECHA_RECTOR                                                     20190417\n",
       "FECHA_DESDE                                                      20100630\n",
       "FECHA_HASTA                                                      20500101\n",
       "CUOTA                                                                  08\n",
       "TOTAL_CUOTA                                                            12\n",
       "MEDIO_PAGO                                                            005\n",
       "CUENTA                                               00000000000000000000\n",
       "MONEDA                                                                 01\n",
       "VALOR_UF                                                     000002760245\n",
       "PRIMA_PESO                                                     0000013525\n",
       "VACIO                                                                 000\n",
       "LIBRE2                                                         0000000000\n",
       "GLOSA                                                        CARGO NORMAL\n",
       "DOCUMENTO                                                       004680021\n",
       "VERIFICADOR                                                             4\n",
       "PRIMA * IVA                                                 0000000002160\n",
       "FECHA_NACIMIENTO                                                 19440818\n",
       "FECHA_NACIMIENTO_CON                                             19440818\n",
       "Name: 2, dtype: object"
      ]
     },
     "execution_count": 7,
     "metadata": {},
     "output_type": "execute_result"
    }
   ],
   "source": [
    "gl_data.iloc[2,:]"
   ]
  },
  {
   "cell_type": "code",
   "execution_count": 8,
   "metadata": {},
   "outputs": [],
   "source": [
    "fun_elimina_linea(1)"
   ]
  },
  {
   "cell_type": "code",
   "execution_count": 9,
   "metadata": {},
   "outputs": [
    {
     "data": {
      "text/plain": [
       "'fun_elimina_linea'"
      ]
     },
     "execution_count": 9,
     "metadata": {},
     "output_type": "execute_result"
    }
   ],
   "source": [
    "gl_funcion_actual"
   ]
  }
 ],
 "metadata": {
  "kernelspec": {
   "display_name": "Python 3",
   "language": "python",
   "name": "python3"
  },
  "language_info": {
   "codemirror_mode": {
    "name": "ipython",
    "version": 3
   },
   "file_extension": ".py",
   "mimetype": "text/x-python",
   "name": "python",
   "nbconvert_exporter": "python",
   "pygments_lexer": "ipython3",
   "version": "3.7.1"
  }
 },
 "nbformat": 4,
 "nbformat_minor": 2
}
