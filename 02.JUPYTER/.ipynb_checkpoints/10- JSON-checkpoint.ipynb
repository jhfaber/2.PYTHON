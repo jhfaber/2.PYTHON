{
 "cells": [
  {
   "cell_type": "code",
   "execution_count": 1,
   "metadata": {},
   "outputs": [],
   "source": [
    "import json"
   ]
  },
  {
   "cell_type": "code",
   "execution_count": 3,
   "metadata": {},
   "outputs": [],
   "source": [
    "data = {\n",
    "                \"accountId\": \"512321\",\n",
    "                \"planCode\": \"sample-plan-code-001\",\n",
    "                \"description\": \"Sample Plan 001\",\n",
    "                \"interval\": \"MONTH\",\n",
    "                \"intervalCount\": \"1\",\n",
    "                \"maxPaymentsAllowed\": \"12\",\n",
    "                \"paymentAttemptsDelay\": \"1\",\n",
    "                # [\n",
    "                #         {\n",
    "                #                 \"name\": \"PLAN_VALUE\",\n",
    "                #                 \"value\": \"20000\",\n",
    "                #                 \"currency\": \"COP\"\n",
    "                #         },\n",
    "                #         {\n",
    "                #                 \"name\": \"PLAN_TAX\",\n",
    "                #                 \"value\": \"3193\",\n",
    "                #                 \"currency\": \"COP\"\n",
    "                #         },\n",
    "                #         {\n",
    "                #                 \"name\": \"PLAN_TAX_RETURN_BASE\",\n",
    "                #                 \"value\": \"16806\",\n",
    "                #                 \"currency\": \"COP\"\n",
    "                #         }\n",
    "                # ]\n",
    "                \n",
    "        }"
   ]
  },
  {
   "cell_type": "code",
   "execution_count": 9,
   "metadata": {},
   "outputs": [],
   "source": [
    "paymentAttemptsDelay = {}\n",
    "paymentAttemptsDelay = [\n",
    "                            {\n",
    "                                    \"name\": \"PLAN_VALUE\",\n",
    "                                    \"value\": \"20000\",\n",
    "                                    \"currency\": \"COP\"\n",
    "                            },\n",
    "                            {\n",
    "                                    \"name\": \"PLAN_TAX\",\n",
    "                                    \"value\": \"3193\",\n",
    "                                    \"currency\": \"COP\"\n",
    "                            },\n",
    "                            {\n",
    "                                    \"name\": \"PLAN_TAX_RETURN_BASE\",\n",
    "                                    \"value\": \"16806\",\n",
    "                                    \"currency\": \"COP\"\n",
    "                            }\n",
    "                        ]\n",
    "\n",
    "data['paymentAttemptsDelay']=paymentAttemptsDelay\n",
    "                "
   ]
  },
  {
   "cell_type": "code",
   "execution_count": 10,
   "metadata": {},
   "outputs": [
    {
     "name": "stdout",
     "output_type": "stream",
     "text": [
      "{\n",
      "    \"accountId\": \"512321\",\n",
      "    \"planCode\": \"sample-plan-code-001\",\n",
      "    \"description\": \"Sample Plan 001\",\n",
      "    \"interval\": \"MONTH\",\n",
      "    \"intervalCount\": \"1\",\n",
      "    \"maxPaymentsAllowed\": \"12\",\n",
      "    \"paymentAttemptsDelay\": [\n",
      "        {\n",
      "            \"name\": \"PLAN_VALUE\",\n",
      "            \"value\": \"20000\",\n",
      "            \"currency\": \"COP\"\n",
      "        },\n",
      "        {\n",
      "            \"name\": \"PLAN_TAX\",\n",
      "            \"value\": \"3193\",\n",
      "            \"currency\": \"COP\"\n",
      "        },\n",
      "        {\n",
      "            \"name\": \"PLAN_TAX_RETURN_BASE\",\n",
      "            \"value\": \"16806\",\n",
      "            \"currency\": \"COP\"\n",
      "        }\n",
      "    ]\n",
      "}\n"
     ]
    }
   ],
   "source": [
    "print(json.dumps(data, indent=4))"
   ]
  },
  {
   "cell_type": "code",
   "execution_count": 12,
   "metadata": {},
   "outputs": [],
   "source": [
    "import base64"
   ]
  },
  {
   "cell_type": "code",
   "execution_count": 15,
   "metadata": {},
   "outputs": [],
   "source": [
    "encoded = base64.b64encode(b'0123ABCDEF:A1B2C3D4E5') #test"
   ]
  },
  {
   "cell_type": "code",
   "execution_count": 17,
   "metadata": {},
   "outputs": [
    {
     "data": {
      "text/plain": [
       "b'MDEyM0FCQ0RFRjpBMUIyQzNENEU1'"
      ]
     },
     "execution_count": 17,
     "metadata": {},
     "output_type": "execute_result"
    }
   ],
   "source": [
    "encoded"
   ]
  },
  {
   "cell_type": "code",
   "execution_count": 19,
   "metadata": {},
   "outputs": [],
   "source": [
    "encoded = base64.b64encode(b'rd93YwF7vkwFuWm:u5tkFm3nZTk7sxL5oEgwm80z77')"
   ]
  },
  {
   "cell_type": "code",
   "execution_count": 22,
   "metadata": {},
   "outputs": [
    {
     "data": {
      "text/plain": [
       "'cmQ5M1l3Rjd2a3dGdVdtOnU1dGtGbTNuWlRrN3N4TDVvRWd3bTgwejc3'"
      ]
     },
     "execution_count": 22,
     "metadata": {},
     "output_type": "execute_result"
    }
   ],
   "source": [
    "encoded.decode(\"utf-8\")"
   ]
  },
  {
   "cell_type": "code",
   "execution_count": 23,
   "metadata": {},
   "outputs": [
    {
     "data": {
      "text/plain": [
       "'https://api.payulatam.com/payments-api/rest/v4.9/plans'"
      ]
     },
     "execution_count": 23,
     "metadata": {},
     "output_type": "execute_result"
    }
   ],
   "source": [
    "URL_API_PRUEBAS = 'https://sandbox.api.payulatam.com/payments-api/'\n",
    "URL_API_PRODUCCION = 'https://api.payulatam.com/payments-api/'\n",
    "# CREACION PLAN\n",
    "URL_CREACION= 'rest/v4.9/plans\n",
    "URL_API_PRODUCCION+URL_CREACION"
   ]
  }
 ],
 "metadata": {
  "kernelspec": {
   "display_name": "Python 3",
   "language": "python",
   "name": "python3"
  },
  "language_info": {
   "codemirror_mode": {
    "name": "ipython",
    "version": 3
   },
   "file_extension": ".py",
   "mimetype": "text/x-python",
   "name": "python",
   "nbconvert_exporter": "python",
   "pygments_lexer": "ipython3",
   "version": "3.7.1"
  }
 },
 "nbformat": 4,
 "nbformat_minor": 2
}
