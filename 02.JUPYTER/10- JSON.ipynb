{
 "cells": [
  {
   "cell_type": "code",
   "execution_count": 2,
   "metadata": {},
   "outputs": [],
   "source": [
    "import json"
   ]
  },
  {
   "cell_type": "code",
   "execution_count": 3,
   "metadata": {},
   "outputs": [],
   "source": [
    "data = {\n",
    "                \"accountId\": \"512321\",\n",
    "                \"planCode\": \"sample-plan-code-001\",\n",
    "                \"description\": \"Sample Plan 001\",\n",
    "                \"interval\": \"MONTH\",\n",
    "                \"intervalCount\": \"1\",\n",
    "                \"maxPaymentsAllowed\": \"12\",\n",
    "                \"paymentAttemptsDelay\": \"1\",\n",
    "                # [\n",
    "                #         {\n",
    "                #                 \"name\": \"PLAN_VALUE\",\n",
    "                #                 \"value\": \"20000\",\n",
    "                #                 \"currency\": \"COP\"\n",
    "                #         },\n",
    "                #         {\n",
    "                #                 \"name\": \"PLAN_TAX\",\n",
    "                #                 \"value\": \"3193\",\n",
    "                #                 \"currency\": \"COP\"\n",
    "                #         },\n",
    "                #         {\n",
    "                #                 \"name\": \"PLAN_TAX_RETURN_BASE\",\n",
    "                #                 \"value\": \"16806\",\n",
    "                #                 \"currency\": \"COP\"\n",
    "                #         }\n",
    "                # ]\n",
    "                \n",
    "        }"
   ]
  },
  {
   "cell_type": "code",
   "execution_count": 4,
   "metadata": {},
   "outputs": [],
   "source": [
    "paymentAttemptsDelay = {}\n",
    "paymentAttemptsDelay = [\n",
    "                            {\n",
    "                                    \"name\": \"PLAN_VALUE\",\n",
    "                                    \"value\": \"20000\",\n",
    "                                    \"currency\": \"COP\"\n",
    "                            },\n",
    "                            {\n",
    "                                    \"name\": \"PLAN_TAX\",\n",
    "                                    \"value\": \"3193\",\n",
    "                                    \"currency\": \"COP\"\n",
    "                            },\n",
    "                            {\n",
    "                                    \"name\": \"PLAN_TAX_RETURN_BASE\",\n",
    "                                    \"value\": \"16806\",\n",
    "                                    \"currency\": \"COP\"\n",
    "                            }\n",
    "                        ]\n",
    "\n",
    "data['paymentAttemptsDelay']=paymentAttemptsDelay\n",
    "                "
   ]
  },
  {
   "cell_type": "code",
   "execution_count": 5,
   "metadata": {},
   "outputs": [
    {
     "name": "stdout",
     "output_type": "stream",
     "text": [
      "{\n",
      "    \"accountId\": \"512321\",\n",
      "    \"planCode\": \"sample-plan-code-001\",\n",
      "    \"description\": \"Sample Plan 001\",\n",
      "    \"interval\": \"MONTH\",\n",
      "    \"intervalCount\": \"1\",\n",
      "    \"maxPaymentsAllowed\": \"12\",\n",
      "    \"paymentAttemptsDelay\": [\n",
      "        {\n",
      "            \"name\": \"PLAN_VALUE\",\n",
      "            \"value\": \"20000\",\n",
      "            \"currency\": \"COP\"\n",
      "        },\n",
      "        {\n",
      "            \"name\": \"PLAN_TAX\",\n",
      "            \"value\": \"3193\",\n",
      "            \"currency\": \"COP\"\n",
      "        },\n",
      "        {\n",
      "            \"name\": \"PLAN_TAX_RETURN_BASE\",\n",
      "            \"value\": \"16806\",\n",
      "            \"currency\": \"COP\"\n",
      "        }\n",
      "    ]\n",
      "}\n"
     ]
    }
   ],
   "source": [
    "print(json.dumps(data, indent=4))"
   ]
  },
  {
   "cell_type": "code",
   "execution_count": 6,
   "metadata": {},
   "outputs": [],
   "source": [
    "import base64"
   ]
  },
  {
   "cell_type": "code",
   "execution_count": 7,
   "metadata": {},
   "outputs": [],
   "source": [
    "encoded = base64.b64encode(b'0123ABCDEF:A1B2C3D4E5') #test"
   ]
  },
  {
   "cell_type": "code",
   "execution_count": 8,
   "metadata": {},
   "outputs": [
    {
     "data": {
      "text/plain": [
       "b'MDEyM0FCQ0RFRjpBMUIyQzNENEU1'"
      ]
     },
     "execution_count": 8,
     "metadata": {},
     "output_type": "execute_result"
    }
   ],
   "source": [
    "encoded"
   ]
  },
  {
   "cell_type": "code",
   "execution_count": 9,
   "metadata": {},
   "outputs": [
    {
     "data": {
      "text/plain": [
       "b'MDEyM0FCQ0RFRjpBMUIyQzNENEU1'"
      ]
     },
     "execution_count": 9,
     "metadata": {},
     "output_type": "execute_result"
    }
   ],
   "source": [
    "n='0123ABCDEF:A1B2C3D4E5'\n",
    "encoded = base64.b64encode(bytes(n,'utf-8'))\n",
    "encoded"
   ]
  },
  {
   "cell_type": "code",
   "execution_count": 14,
   "metadata": {},
   "outputs": [
    {
     "data": {
      "text/plain": [
       "b'cFJSWEtPbDhpa01tdDl1OjRWajhlSzRybG9VZDI3Mkw0OGhzcmFyblVB'"
      ]
     },
     "execution_count": 14,
     "metadata": {},
     "output_type": "execute_result"
    }
   ],
   "source": [
    "encoded = base64.b64encode(b'pRRXKOl8ikMmt9u:4Vj8eK4rloUd272L48hsrarnUA')\n",
    "encoded"
   ]
  },
  {
   "cell_type": "code",
   "execution_count": 11,
   "metadata": {},
   "outputs": [
    {
     "data": {
      "text/plain": [
       "'dTV0a0ZtM25aVGs3c3hMNW9FZ3dtODB6Nzc6cmQ5M1l3Rjd2a3dGdVdt'"
      ]
     },
     "execution_count": 11,
     "metadata": {},
     "output_type": "execute_result"
    }
   ],
   "source": [
    "encoded.decode(\"utf-8\")"
   ]
  },
  {
   "cell_type": "code",
   "execution_count": 12,
   "metadata": {},
   "outputs": [
    {
     "data": {
      "text/plain": [
       "'https://api.payulatam.com/payments-api/rest/v4.9/plans'"
      ]
     },
     "execution_count": 12,
     "metadata": {},
     "output_type": "execute_result"
    }
   ],
   "source": [
    "URL_API_PRUEBAS = 'https://sandbox.api.payulatam.com/payments-api/'\n",
    "URL_API_PRODUCCION = 'https://api.payulatam.com/payments-api/'\n",
    "# CREACION PLAN\n",
    "URL_CREACION= 'rest/v4.9/plans'\n",
    "URL_API_PRODUCCION+URL_CREACION"
   ]
  },
  {
   "cell_type": "code",
   "execution_count": 15,
   "metadata": {},
   "outputs": [],
   "source": [
    "API_LOGIN = 'rd93YwF7vkwFuWm'\n",
    "API_KEY= 'u5tkFm3nZTk7sxL5oEgwm80z77'"
   ]
  },
  {
   "cell_type": "code",
   "execution_count": 20,
   "metadata": {},
   "outputs": [],
   "source": [
    "mastepeace=\"hi\"\n",
    "m=\"{}\"\n",
    "m.format(mastepeace)\n",
    "\n"
   ]
  },
  {
   "cell_type": "code",
   "execution_count": 23,
   "metadata": {},
   "outputs": [
    {
     "data": {
      "text/plain": [
       "'https://api.payulatam.com/payments-api//rest/v4.9/customers/1'"
      ]
     },
     "execution_count": 23,
     "metadata": {},
     "output_type": "execute_result"
    }
   ],
   "source": [
    "URL_API_PRODUCCION = 'https://api.payulatam.com/payments-api/'\n",
    "URL_CONSULTA= \"/rest/v4.9/customers/{}\"\n",
    "ID=\"1\"\n",
    "\n",
    "URL_CREAR_PLAN = URL_API_PRODUCCION+(URL_CONSULTA.format(ID))\n",
    "URL_CREAR_PLAN"
   ]
  },
  {
   "cell_type": "code",
   "execution_count": null,
   "metadata": {},
   "outputs": [],
   "source": []
  }
 ],
 "metadata": {
  "kernelspec": {
   "display_name": "Python 3",
   "language": "python",
   "name": "python3"
  },
  "language_info": {
   "codemirror_mode": {
    "name": "ipython",
    "version": 3
   },
   "file_extension": ".py",
   "mimetype": "text/x-python",
   "name": "python",
   "nbconvert_exporter": "python",
   "pygments_lexer": "ipython3",
   "version": "3.7.1"
  }
 },
 "nbformat": 4,
 "nbformat_minor": 2
}
