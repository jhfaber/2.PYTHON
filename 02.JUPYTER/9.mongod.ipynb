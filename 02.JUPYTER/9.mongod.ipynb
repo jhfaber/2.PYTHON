{
 "cells": [
  {
   "cell_type": "code",
   "execution_count": 14,
   "metadata": {},
   "outputs": [],
   "source": [
    "import cgi, cgitb\n",
    "from pymongo import MongoClient\n",
    "from bson.objectid import ObjectId\n",
    "import datetime\n",
    "import json\n"
   ]
  },
  {
   "cell_type": "code",
   "execution_count": 2,
   "metadata": {},
   "outputs": [],
   "source": [
    "client = MongoClient('localhost', 27017)"
   ]
  },
  {
   "cell_type": "code",
   "execution_count": 3,
   "metadata": {},
   "outputs": [
    {
     "name": "stdout",
     "output_type": "stream",
     "text": [
      "{'name': 'user', 'mama': 'is'}\n"
     ]
    }
   ],
   "source": [
    "form = cgi.FieldStorage() #\n",
    "\n",
    "name = {\"name\": \"user\", \"mama\": \"is\"}\n",
    "#name=form.getvalue('name')\n",
    "\n",
    "#data  = json.loads(name)\n",
    "print(name)\n"
   ]
  },
  {
   "cell_type": "code",
   "execution_count": 4,
   "metadata": {},
   "outputs": [],
   "source": [
    "db = client.mymongo"
   ]
  },
  {
   "cell_type": "code",
   "execution_count": null,
   "metadata": {},
   "outputs": [],
   "source": []
  },
  {
   "cell_type": "code",
   "execution_count": 6,
   "metadata": {},
   "outputs": [
    {
     "data": {
      "text/plain": [
       "<pymongo.results.InsertOneResult at 0x231485bc988>"
      ]
     },
     "execution_count": 6,
     "metadata": {},
     "output_type": "execute_result"
    }
   ],
   "source": [
    "db.test.insert_one(name)"
   ]
  },
  {
   "cell_type": "code",
   "execution_count": 7,
   "metadata": {},
   "outputs": [
    {
     "data": {
      "text/plain": [
       "<pymongo.results.InsertManyResult at 0x231482c2ac8>"
      ]
     },
     "execution_count": 7,
     "metadata": {},
     "output_type": "execute_result"
    }
   ],
   "source": [
    "db.test.insert_many(  [{\"tipo\":8888,\"fecha\": datetime.datetime(2009, 11, 12, 11, 14)}])"
   ]
  },
  {
   "cell_type": "code",
   "execution_count": 12,
   "metadata": {},
   "outputs": [
    {
     "data": {
      "text/plain": [
       "<pymongo.results.InsertManyResult at 0x231485fc788>"
      ]
     },
     "execution_count": 12,
     "metadata": {},
     "output_type": "execute_result"
    }
   ],
   "source": [
    "db.test.insert_many(  [{\"tipo\":8888,\"fecha\": datetime.datetime.utcnow()}])"
   ]
  },
  {
   "cell_type": "code",
   "execution_count": 16,
   "metadata": {},
   "outputs": [],
   "source": [
    "with open('data.json', 'r') as json_file:\n",
    "    data = json_file.read()"
   ]
  },
  {
   "cell_type": "code",
   "execution_count": 30,
   "metadata": {},
   "outputs": [
    {
     "data": {
      "text/plain": [
       "{'ORIGEN': '40.117.133.21',\n",
       " 'out': 33000,\n",
       " 'DESTINO': '192.168.0.160',\n",
       " 'in': 3000}"
      ]
     },
     "execution_count": 30,
     "metadata": {},
     "output_type": "execute_result"
    }
   ],
   "source": [
    "type(data)\n",
    "obj= json.loads(data)\n",
    "type(obj)\n",
    "\n",
    "obj[1]"
   ]
  },
  {
   "cell_type": "code",
   "execution_count": 38,
   "metadata": {},
   "outputs": [],
   "source": [
    "#print(json.dumps(obj, indent=4))\n",
    "\n",
    "obj[0]['timestamp']= datetime.datetime.utcnow()"
   ]
  },
  {
   "cell_type": "code",
   "execution_count": 46,
   "metadata": {},
   "outputs": [],
   "source": [
    "for key, value in enumerate(obj):\n",
    "    obj[key]['timestamp'] =  datetime.datetime.utcnow()"
   ]
  },
  {
   "cell_type": "code",
   "execution_count": 48,
   "metadata": {},
   "outputs": [
    {
     "name": "stdout",
     "output_type": "stream",
     "text": [
      "{'ORIGEN': '104.92.192.127', 'out': 109000, 'DESTINO': '192.168.0.160', 'in': 4000, 'date': 4, 'timestamp': datetime.datetime(2019, 5, 6, 19, 57, 44, 38504)}\n",
      "{'ORIGEN': '40.117.133.21', 'out': 33000, 'DESTINO': '192.168.0.160', 'in': 3000, 'timestamp': datetime.datetime(2019, 5, 6, 19, 57, 44, 38504)}\n",
      "{'ORIGEN': '98.129.86.51', 'out': 11000, 'DESTINO': '192.168.0.181', 'in': 11000, 'timestamp': datetime.datetime(2019, 5, 6, 19, 57, 44, 38504)}\n",
      "{'ORIGEN': '98.129.86.51', 'out': 11000, 'DESTINO': '192.168.0.156', 'in': 11000, 'timestamp': datetime.datetime(2019, 5, 6, 19, 57, 44, 38504)}\n",
      "{'ORIGEN': '98.129.86.51', 'out': 11000, 'DESTINO': '192.168.0.159', 'in': 11000, 'timestamp': datetime.datetime(2019, 5, 6, 19, 57, 44, 38504)}\n",
      "{'ORIGEN': '98.129.86.51', 'out': 11000, 'DESTINO': '192.168.0.167', 'in': 11000, 'timestamp': datetime.datetime(2019, 5, 6, 19, 57, 44, 38504)}\n",
      "{'ORIGEN': '98.129.86.51', 'out': 11000, 'DESTINO': '192.168.0.187', 'in': 11000, 'timestamp': datetime.datetime(2019, 5, 6, 19, 57, 44, 38504)}\n",
      "{'ORIGEN': '52.184.180.160', 'out': 16000, 'DESTINO': '192.168.0.158', 'in': 862, 'timestamp': datetime.datetime(2019, 5, 6, 19, 57, 44, 38504)}\n",
      "{'ORIGEN': '52.184.180.160', 'out': 9000, 'DESTINO': '192.168.0.156', 'in': 1000, 'timestamp': datetime.datetime(2019, 5, 6, 19, 57, 44, 38504)}\n",
      "{'ORIGEN': '208.80.52.129', 'out': 8000, 'DESTINO': '192.168.0.172', 'in': 360, 'timestamp': datetime.datetime(2019, 5, 6, 19, 57, 44, 38504)}\n",
      "{'ORIGEN': '225.10.225.104.ptr.anycast.net', 'out': 7000, 'DESTINO': '192.168.0.160', 'in': 1000, 'timestamp': datetime.datetime(2019, 5, 6, 19, 57, 44, 38504)}\n",
      "{'ORIGEN': 'bog02s05-in-f10.1e100.net', 'out': 4000, 'DESTINO': '192.168.0.170', 'in': 1000, 'timestamp': datetime.datetime(2019, 5, 6, 19, 57, 44, 38504)}\n",
      "{'ORIGEN': '35.241.56.184', 'out': 2000, 'DESTINO': '192.168.0.160', 'in': 3000, 'timestamp': datetime.datetime(2019, 5, 6, 19, 57, 44, 38504)}\n",
      "{'ORIGEN': '40.87.5.98', 'out': 1000, 'DESTINO': '192.168.0.183', 'in': 4000, 'timestamp': datetime.datetime(2019, 5, 6, 19, 57, 44, 38504)}\n",
      "{'ORIGEN': '52.184.180.160', 'out': 3000, 'DESTINO': '192.168.0.10', 'in': 791, 'timestamp': datetime.datetime(2019, 5, 6, 19, 57, 44, 38504)}\n",
      "{'ORIGEN': '52.184.180.160', 'out': 3000, 'DESTINO': '192.168.0.159', 'in': 630, 'timestamp': datetime.datetime(2019, 5, 6, 19, 57, 44, 38504)}\n",
      "{'ORIGEN': '52.179.169.2', 'out': 1000, 'DESTINO': '192.168.0.173', 'in': 2000, 'timestamp': datetime.datetime(2019, 5, 6, 19, 57, 44, 38504)}\n",
      "{'ORIGEN': '216.58.222.195', 'out': 2000, 'DESTINO': '192.168.0.189', 'in': 1000, 'timestamp': datetime.datetime(2019, 5, 6, 19, 57, 44, 38504)}\n",
      "{'ORIGEN': '40.112.187.188', 'out': 1000, 'DESTINO': '192.168.0.161', 'in': 746, 'timestamp': datetime.datetime(2019, 5, 6, 19, 57, 44, 38504)}\n",
      "{'ORIGEN': '52.184.180.160', 'out': 1000, 'DESTINO': '192.168.0.167', 'in': 356, 'timestamp': datetime.datetime(2019, 5, 6, 19, 57, 44, 38504)}\n",
      "{'ORIGEN': '52.184.180.160', 'out': 1000, 'DESTINO': '192.168.0.187', 'in': 316, 'timestamp': datetime.datetime(2019, 5, 6, 19, 57, 44, 38504)}\n",
      "{'ORIGEN': '216.58.222.238', 'out': 585, 'DESTINO': '192.168.0.170', 'in': 1000, 'timestamp': datetime.datetime(2019, 5, 6, 19, 57, 44, 38504)}\n",
      "{'ORIGEN': '52.184.180.160', 'out': 1000, 'DESTINO': '192.168.0.162', 'in': 315, 'timestamp': datetime.datetime(2019, 5, 6, 19, 57, 44, 38504)}\n",
      "{'ORIGEN': '52.184.180.160', 'out': 1000, 'DESTINO': '192.168.0.171', 'in': 316, 'timestamp': datetime.datetime(2019, 5, 6, 19, 57, 44, 38504)}\n",
      "{'ORIGEN': '52.184.180.160', 'out': 1000, 'DESTINO': '192.168.0.174', 'in': 354, 'timestamp': datetime.datetime(2019, 5, 6, 19, 57, 44, 38504)}\n",
      "{'ORIGEN': '216.58.222.238', 'out': 489, 'DESTINO': '192.168.0.168', 'in': 996, 'timestamp': datetime.datetime(2019, 5, 6, 19, 57, 44, 38504)}\n",
      "{'ORIGEN': 'vg-in-f125.1e100.net', 'out': 40, 'DESTINO': '192.168.0.193', 'in': 1000, 'timestamp': datetime.datetime(2019, 5, 6, 19, 57, 44, 38504)}\n",
      "{'ORIGEN': '172.217.28.110', 'out': 232, 'DESTINO': '192.168.0.170', 'in': 862, 'timestamp': datetime.datetime(2019, 5, 6, 19, 57, 44, 38504)}\n",
      "{'ORIGEN': '52.184.180.160', 'out': 819, 'DESTINO': '192.168.0.189', 'in': 158, 'timestamp': datetime.datetime(2019, 5, 6, 19, 57, 44, 38504)}\n",
      "{'ORIGEN': '52.184.180.160', 'out': 818, 'DESTINO': '192.168.0.160', 'in': 158, 'timestamp': datetime.datetime(2019, 5, 6, 19, 57, 44, 38504)}\n",
      "{'ORIGEN': '52.184.180.160', 'out': 540, 'DESTINO': '192.168.0.176', 'in': 356, 'timestamp': datetime.datetime(2019, 5, 6, 19, 57, 44, 38504)}\n",
      "{'ORIGEN': '52.184.180.160', 'out': 540, 'DESTINO': '192.168.0.177', 'in': 316, 'timestamp': datetime.datetime(2019, 5, 6, 19, 57, 44, 38504)}\n",
      "{'ORIGEN': '216.58.222.238', 'out': 168, 'DESTINO': '192.168.0.180', 'in': 555, 'timestamp': datetime.datetime(2019, 5, 6, 19, 57, 44, 38504)}\n",
      "{'ORIGEN': '40.112.187.188', 'out': 653, 'DESTINO': '192.168.0.191', 'in': 40, 'timestamp': datetime.datetime(2019, 5, 6, 19, 57, 44, 38504)}\n",
      "{'ORIGEN': '8.8.8.8', 'out': 300, 'DESTINO': '192.168.0.160', 'in': 139, 'timestamp': datetime.datetime(2019, 5, 6, 19, 57, 44, 38504)}\n",
      "{'ORIGEN': '40.112.187.188', 'out': 349, 'DESTINO': '192.168.0.174', 'in': 40, 'timestamp': datetime.datetime(2019, 5, 6, 19, 57, 44, 38504)}\n",
      "{'ORIGEN': '40.122.162.208', 'out': 141, 'DESTINO': '192.168.0.156', 'in': 181, 'timestamp': datetime.datetime(2019, 5, 6, 19, 57, 44, 38504)}\n",
      "{'ORIGEN': '40.112.187.188', 'out': 133, 'DESTINO': '192.168.0.183', 'in': 93, 'timestamp': datetime.datetime(2019, 5, 6, 19, 57, 44, 38504)}\n",
      "{'ORIGEN': '239.255.255.250', 'out': 0, 'DESTINO': '192.168.0.171', 'in': 201, 'timestamp': datetime.datetime(2019, 5, 6, 19, 57, 44, 38504)}\n",
      "{'ORIGEN': '239.255.255.250', 'out': 0, 'DESTINO': '192.168.0.192', 'in': 201, 'timestamp': datetime.datetime(2019, 5, 6, 19, 57, 44, 38504)}\n",
      "{'ORIGEN': '239.255.255.250', 'out': 0, 'DESTINO': '192.168.0.162', 'in': 201, 'timestamp': datetime.datetime(2019, 5, 6, 19, 57, 44, 38504)}\n",
      "{'ORIGEN': '192.168.0.255', 'out': 0, 'DESTINO': '192.168.0.173', 'in': 185, 'timestamp': datetime.datetime(2019, 5, 6, 19, 57, 44, 38504)}\n",
      "{'ORIGEN': '131.100.1.172', 'out': 89, 'DESTINO': '192.168.0.163', 'in': 89, 'timestamp': datetime.datetime(2019, 5, 6, 19, 57, 44, 38504)}\n",
      "{'ORIGEN': '239.255.255.250', 'out': 0, 'DESTINO': '192.168.0.191', 'in': 161, 'timestamp': datetime.datetime(2019, 5, 6, 19, 57, 44, 38504)}\n",
      "{'ORIGEN': '74.125.141.189', 'out': 68, 'DESTINO': '192.168.0.189', 'in': 57, 'timestamp': datetime.datetime(2019, 5, 6, 19, 57, 44, 38504)}\n",
      "{'ORIGEN': '52.184.180.160', 'out': 40, 'DESTINO': '192.168.0.165', 'in': 80, 'timestamp': datetime.datetime(2019, 5, 6, 19, 57, 44, 38504)}\n",
      "{'ORIGEN': '74.125.141.189', 'out': 49, 'DESTINO': '192.168.0.180', 'in': 51, 'timestamp': datetime.datetime(2019, 5, 6, 19, 57, 44, 38504)}\n",
      "{'ORIGEN': 'va-in-f95.1e100.net', 'out': 52, 'DESTINO': '192.168.0.170', 'in': 41, 'timestamp': datetime.datetime(2019, 5, 6, 19, 57, 44, 38504)}\n",
      "{'ORIGEN': 'va-in-f95.1e100.net', 'out': 52, 'DESTINO': '192.168.0.174', 'in': 41, 'timestamp': datetime.datetime(2019, 5, 6, 19, 57, 44, 38504)}\n",
      "{'ORIGEN': '172.217.30.202', 'out': 52, 'DESTINO': '192.168.0.172', 'in': 41, 'timestamp': datetime.datetime(2019, 5, 6, 19, 57, 44, 38504)}\n",
      "{'ORIGEN': '172.217.203.95', 'out': 52, 'DESTINO': '192.168.0.170', 'in': 41, 'timestamp': datetime.datetime(2019, 5, 6, 19, 57, 44, 38504)}\n",
      "{'ORIGEN': '172.106.3.170', 'out': 40, 'DESTINO': '192.168.0.163', 'in': 40, 'timestamp': datetime.datetime(2019, 5, 6, 19, 57, 44, 38504)}\n",
      "{'ORIGEN': '216.58.196.67', 'out': 0, 'DESTINO': '192.168.0.170', 'in': 51, 'timestamp': datetime.datetime(2019, 5, 6, 19, 57, 44, 38504)}\n",
      "{'ORIGEN': '74.125.141.189', 'out': 49, 'DESTINO': '192.168.0.162', 'in': 0, 'timestamp': datetime.datetime(2019, 5, 6, 19, 57, 44, 38504)}\n",
      "{'ORIGEN': '40.112.187.188', 'out': 0, 'DESTINO': '192.168.0.189', 'in': 40, 'timestamp': datetime.datetime(2019, 5, 6, 19, 57, 44, 38504)}\n"
     ]
    }
   ],
   "source": [
    "for key, value in enumerate(obj):\n",
    "    print(obj[key])"
   ]
  },
  {
   "cell_type": "code",
   "execution_count": 49,
   "metadata": {},
   "outputs": [
    {
     "data": {
      "text/plain": [
       "<pymongo.results.InsertManyResult at 0x231484aca88>"
      ]
     },
     "execution_count": 49,
     "metadata": {},
     "output_type": "execute_result"
    }
   ],
   "source": [
    "db.test.insert_many(obj)"
   ]
  }
 ],
 "metadata": {
  "kernelspec": {
   "display_name": "Python 3",
   "language": "python",
   "name": "python3"
  },
  "language_info": {
   "codemirror_mode": {
    "name": "ipython",
    "version": 3
   },
   "file_extension": ".py",
   "mimetype": "text/x-python",
   "name": "python",
   "nbconvert_exporter": "python",
   "pygments_lexer": "ipython3",
   "version": "3.7.1"
  }
 },
 "nbformat": 4,
 "nbformat_minor": 2
}
