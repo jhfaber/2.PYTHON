{
 "cells": [
  {
   "cell_type": "code",
   "execution_count": 19,
   "metadata": {},
   "outputs": [],
   "source": [
    "import pyodbc\n",
    "import pandas as pd\n",
    "import numpy as np\n",
    "import os\n",
    "import cufflinks as cf\n",
    "%matplotlib inline\n",
    "from plotly.offline import download_plotlyjs, init_notebook_mode,plot,iplot\n",
    "import plotly.graph_objs as go\n",
    "from sklearn.preprocessing import StandardScaler\n",
    "from sklearn.cluster import KMeans"
   ]
  },
  {
   "cell_type": "code",
   "execution_count": null,
   "metadata": {},
   "outputs": [],
   "source": [
    "init_notebook_mode(connected=True)\n",
    "cf.go_offline()"
   ]
  },
  {
   "cell_type": "code",
   "execution_count": 2,
   "metadata": {},
   "outputs": [],
   "source": [
    "#PATH FOLDER\n",
    "cwd = os.getcwd() + '\\\\files'\n",
    "\n",
    "#BUILD PATH\n",
    "#Entidad 15 = Entidad X\n",
    "#Entidad 23 = ColombiaCOOP\n",
    "#Entidad 22 = Cultural Andino\n",
    "cwd=os.path.join(cwd,'0_TOTAL_AGREGADO_ID_23.xls')\n",
    "meses=6"
   ]
  },
  {
   "cell_type": "code",
   "execution_count": 3,
   "metadata": {},
   "outputs": [],
   "source": [
    "asociados = pd.read_excel(cwd,index_col=0)"
   ]
  },
  {
   "cell_type": "code",
   "execution_count": 4,
   "metadata": {},
   "outputs": [],
   "source": [
    "#OJO EJECUTAR SOLO UNA VEZ\n",
    "asociados['total_debito'] = asociados['total_debito'].apply(lambda x: x /6)\n",
    "asociados['total_credito'] = asociados['total_credito'].apply(lambda x: x /6)\n",
    "asociados['cantidad_credito'] = asociados['cantidad_credito'].apply(lambda x: x /6)\n",
    "asociados['cantidad_debito'] = asociados['cantidad_debito'].apply(lambda x: x /6)"
   ]
  },
  {
   "cell_type": "markdown",
   "metadata": {},
   "source": [
    "# CLUSTERIZACION\n",
    "\n",
    "Preparar los datos para clusterizar"
   ]
  },
  {
   "cell_type": "code",
   "execution_count": 24,
   "metadata": {},
   "outputs": [
    {
     "data": {
      "text/plain": [
       "{'algorithm': 'auto',\n",
       " 'copy_x': True,\n",
       " 'init': 'k-means++',\n",
       " 'max_iter': 300,\n",
       " 'n_clusters': 2,\n",
       " 'n_init': 10,\n",
       " 'n_jobs': 1,\n",
       " 'precompute_distances': 'auto',\n",
       " 'random_state': 0,\n",
       " 'tol': 0.0001,\n",
       " 'verbose': 0}"
      ]
     },
     "execution_count": 24,
     "metadata": {},
     "output_type": "execute_result"
    }
   ],
   "source": [
    "normalizados = asociados[['total_debito', 'total_credito','cantidad_debito','cantidad_credito']]\n",
    "normalizados.head()\n",
    "scaler = StandardScaler()\n",
    "#TRATAR LA DATA\n",
    "normalizados = scaler.fit_transform(normalizados)\n",
    "kmeans = KMeans(n_clusters=2, random_state=0).fit(normalizados)\n",
    "\n",
    "kmeans.get_params(deep=True)"
   ]
  },
  {
   "cell_type": "code",
   "execution_count": 26,
   "metadata": {},
   "outputs": [
    {
     "data": {
      "text/plain": [
       "array([1, 1, 1, ..., 1, 1, 1])"
      ]
     },
     "execution_count": 26,
     "metadata": {},
     "output_type": "execute_result"
    }
   ],
   "source": [
    "cluster_labels = kmeans.fit_predict(normalizados)\n",
    "cluster_labels"
   ]
  },
  {
   "cell_type": "code",
   "execution_count": null,
   "metadata": {},
   "outputs": [],
   "source": []
  },
  {
   "cell_type": "code",
   "execution_count": null,
   "metadata": {},
   "outputs": [],
   "source": []
  }
 ],
 "metadata": {
  "kernelspec": {
   "display_name": "Python 3",
   "language": "python",
   "name": "python3"
  },
  "language_info": {
   "codemirror_mode": {
    "name": "ipython",
    "version": 3
   },
   "file_extension": ".py",
   "mimetype": "text/x-python",
   "name": "python",
   "nbconvert_exporter": "python",
   "pygments_lexer": "ipython3",
   "version": "3.7.0"
  }
 },
 "nbformat": 4,
 "nbformat_minor": 2
}
